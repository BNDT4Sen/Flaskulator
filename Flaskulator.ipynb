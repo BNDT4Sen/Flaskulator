{
 "cells": [
  {
   "cell_type": "code",
   "execution_count": 1,
   "id": "5864156d-52cc-4cb9-b605-2d3615d6315c",
   "metadata": {
    "tags": []
   },
   "outputs": [],
   "source": [
    "import requests\n",
    "\n",
    "json_data = {\n",
    "    'num1': 30, \n",
    "    'num2': 15\n",
    "}"
   ]
  },
  {
   "cell_type": "code",
   "execution_count": 2,
   "id": "975b0f55-3383-48b7-98ba-303e401531c8",
   "metadata": {
    "tags": []
   },
   "outputs": [
    {
     "name": "stdout",
     "output_type": "stream",
     "text": [
      "45\n"
     ]
    }
   ],
   "source": [
    "URL = \"http://127.0.0.1:5000/addition\"\n",
    "# sending get request and saving the response as response object \n",
    "r = requests.post(url = URL, json = json_data) \n",
    "print(r.json())"
   ]
  },
  {
   "cell_type": "code",
   "execution_count": 3,
   "id": "5c350961-cb39-450e-a710-d7678eb67c69",
   "metadata": {
    "tags": []
   },
   "outputs": [
    {
     "name": "stdout",
     "output_type": "stream",
     "text": [
      "15\n"
     ]
    }
   ],
   "source": [
    "URL = \"http://127.0.0.1:5000/subtraction\"\n",
    "r = requests.post(url = URL, json = json_data) \n",
    "print(r.json())"
   ]
  },
  {
   "cell_type": "code",
   "execution_count": 4,
   "id": "0106fa18-6ff8-4984-a703-25c7c43de7f1",
   "metadata": {
    "tags": []
   },
   "outputs": [
    {
     "name": "stdout",
     "output_type": "stream",
     "text": [
      "450\n"
     ]
    }
   ],
   "source": [
    "URL = \"http://127.0.0.1:5000/multiplication\"\n",
    "r = requests.post(url = URL, json = json_data) \n",
    "print(r.json())"
   ]
  },
  {
   "cell_type": "code",
   "execution_count": 5,
   "id": "d0ac949f-2458-4894-ba23-e935ff55ccd5",
   "metadata": {
    "tags": []
   },
   "outputs": [
    {
     "name": "stdout",
     "output_type": "stream",
     "text": [
      "2.0\n"
     ]
    }
   ],
   "source": [
    "URL = \"http://127.0.0.1:5000/division\"\n",
    "r = requests.post(url = URL, json = json_data) \n",
    "print(r.json())"
   ]
  }
 ],
 "metadata": {
  "kernelspec": {
   "display_name": "LHLenvironment",
   "language": "python",
   "name": "lhlenvironment"
  },
  "language_info": {
   "codemirror_mode": {
    "name": "ipython",
    "version": 3
   },
   "file_extension": ".py",
   "mimetype": "text/x-python",
   "name": "python",
   "nbconvert_exporter": "python",
   "pygments_lexer": "ipython3",
   "version": "3.11.3"
  }
 },
 "nbformat": 4,
 "nbformat_minor": 5
}
